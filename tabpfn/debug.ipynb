{
 "cells": [
  {
   "cell_type": "code",
   "execution_count": null,
   "metadata": {
    "collapsed": true
   },
   "outputs": [],
   "source": [
    "import torch\n",
    "from sklearn.metrics import accuracy_score\n",
    "from sklearn.datasets import load_breast_cancer\n",
    "from sklearn.model_selection import train_test_split\n",
    "from torch import nn\n",
    "\n",
    "from tabpfn import TabPFNClassifier\n",
    "\n",
    "X, y = load_breast_cancer(return_X_y=True)\n",
    "X_train, X_test, y_train, y_test = train_test_split(X, y, test_size=0.33, random_state=42)\n",
    "\n",
    "X_train = torch.from_numpy(X_train)\n",
    "X_train.requires_grad = True\n",
    "X_test = torch.from_numpy(X_test)\n",
    "X_test.requires_grad = True\n",
    "y_train = torch.from_numpy(y_train)\n",
    "y_test = torch.from_numpy(y_test)\n",
    "\n",
    "#given x,y,x_test,y_test with\n",
    "#X_train.requires_grad = True\n",
    "#X_test.requires_grad = True\n",
    "\n",
    "# N_ensemble_configurations controls the number of model predictions that are ensembled with feature and class rotations (See our work for details).\n",
    "# When N_ensemble_configurations > #features * #classes, no further averaging is applied.\n",
    "classifier = TabPFNClassifier(device='cpu', N_ensemble_configurations=3, no_preprocess_mode=True, no_grad=False) # with no_grad=False, no_preprocessing=True, .... TODO:David\n",
    "classifier.fit(X_train, y_train)\n",
    "\n",
    "logits = classifier.predict_proba(X_test, return_logits=True) # would be awesome to allow returning logits instead of probabilities TODO:David\n",
    "\n",
    "\n",
    "#loss = nn.CrossEntropyLoss()(probs, torch.from_numpy(y_test).long())\n",
    "loss = nn.CrossEntropyLoss()(logits, y_test.long().to('cpu'))\n",
    "loss.backward()\n",
    "\n",
    "# now we should have a gradient on\n",
    "(X_test.grad is not None) and (X_train.grad is not None)\n",
    "\n",
    "print(X_test.grad.max(), X_train.grad.max())\n",
    "#y_eval, p_eval = classifier.predict(X_test, return_winning_probability=True)\n",
    "\n",
    "#print('Accuracy', accuracy_score(y_test, y_eval))\n",
    "\n",
    "# Output cpu - 1 ensemble: tensor(3.9629, dtype=torch.float64) tensor(2.5293, dtype=torch.float64)\n",
    "# Output cuda - 1 ensemble: tensor(3.9629, dtype=torch.float64) tensor(2.5293, dtype=torch.float64)\n",
    "# Output cpu - 3 ensemble: tensor(3.4180, dtype=torch.float64) tensor(1.7904, dtype=torch.float64)\n",
    "# Output cuda - 3 ensemble: tensor(3.4180, dtype=torch.float64) tensor(1.7904, dtype=torch.float64)"
   ]
  },
  {
   "cell_type": "code",
   "execution_count": null,
   "outputs": [],
   "source": [
    "# Example of target with class indices\n",
    "loss = nn.CrossEntropyLoss()\n",
    "input = torch.randn(3, 5, requires_grad=True)\n",
    "target = torch.empty(3, dtype=torch.long).random_(5)\n",
    "output = loss(input, target)\n",
    "output.backward()"
   ],
   "metadata": {
    "collapsed": false
   }
  },
  {
   "cell_type": "code",
   "execution_count": null,
   "outputs": [],
   "source": [],
   "metadata": {
    "collapsed": false
   }
  }
 ],
 "metadata": {
  "kernelspec": {
   "display_name": "Python 3",
   "language": "python",
   "name": "python3"
  },
  "language_info": {
   "codemirror_mode": {
    "name": "ipython",
    "version": 2
   },
   "file_extension": ".py",
   "mimetype": "text/x-python",
   "name": "python",
   "nbconvert_exporter": "python",
   "pygments_lexer": "ipython2",
   "version": "2.7.6"
  }
 },
 "nbformat": 4,
 "nbformat_minor": 0
}
